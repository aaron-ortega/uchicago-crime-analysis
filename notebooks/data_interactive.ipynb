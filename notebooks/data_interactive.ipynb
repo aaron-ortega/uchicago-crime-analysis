{
 "cells": [
  {
   "cell_type": "markdown",
   "metadata": {},
   "source": [
    "## Visualization w/ folium"
   ]
  },
  {
   "cell_type": "code",
   "execution_count": 1,
   "metadata": {},
   "outputs": [],
   "source": [
    "# plot coordinates using folium, python wrapper of Leaflet (a JavaScript library for interactive maps)\n",
    "import folium\n",
    "from folium.plugins import FastMarkerCluster\n",
    "import pandas as pd\n",
    "import pkg_resources"
   ]
  },
  {
   "cell_type": "code",
   "execution_count": 2,
   "metadata": {},
   "outputs": [
    {
     "name": "stdout",
     "output_type": "stream",
     "text": [
      "Versions\n",
      "folium: 0.6.0\n",
      "pandas: 0.23.4\n"
     ]
    }
   ],
   "source": [
    "modules_used = 'folium,pandas'.split(',')\n",
    "print('Versions')\n",
    "for mod in modules_used:\n",
    "    print('{}: {}'.format(mod, pkg_resources.get_distribution(mod).version))"
   ]
  },
  {
   "cell_type": "code",
   "execution_count": 4,
   "metadata": {},
   "outputs": [
    {
     "data": {
      "text/html": [
       "<div>\n",
       "<style scoped>\n",
       "    .dataframe tbody tr th:only-of-type {\n",
       "        vertical-align: middle;\n",
       "    }\n",
       "\n",
       "    .dataframe tbody tr th {\n",
       "        vertical-align: top;\n",
       "    }\n",
       "\n",
       "    .dataframe thead th {\n",
       "        text-align: right;\n",
       "    }\n",
       "</style>\n",
       "<table border=\"1\" class=\"dataframe\">\n",
       "  <thead>\n",
       "    <tr style=\"text-align: right;\">\n",
       "      <th></th>\n",
       "      <th>Unnamed: 0</th>\n",
       "      <th>Incident</th>\n",
       "      <th>Comments</th>\n",
       "      <th>Reported</th>\n",
       "      <th>Coordinates</th>\n",
       "      <th>Occurred</th>\n",
       "    </tr>\n",
       "  </thead>\n",
       "  <tbody>\n",
       "    <tr>\n",
       "      <th>0</th>\n",
       "      <td>0</td>\n",
       "      <td>lost</td>\n",
       "      <td>woman reports losing a canon power shot digita...</td>\n",
       "      <td>2010-07-01 12:42:00</td>\n",
       "      <td>(41.7892236, -87.5980197)</td>\n",
       "      <td>2010-06-28 19:45:00</td>\n",
       "    </tr>\n",
       "    <tr>\n",
       "      <th>1</th>\n",
       "      <td>5</td>\n",
       "      <td>lost</td>\n",
       "      <td>staff member reports losing wallet containing ...</td>\n",
       "      <td>2010-07-01 23:09:00</td>\n",
       "      <td>(41.66861859999999, -87.7841447)</td>\n",
       "      <td>2010-07-02 03:00:00</td>\n",
       "    </tr>\n",
       "    <tr>\n",
       "      <th>2</th>\n",
       "      <td>72</td>\n",
       "      <td>lost</td>\n",
       "      <td>patient's cell phone missing after she transfe...</td>\n",
       "      <td>2010-07-18 19:19:00</td>\n",
       "      <td>(41.7892116, -87.60406619999999)</td>\n",
       "      <td>2010-07-18 19:00:00</td>\n",
       "    </tr>\n",
       "    <tr>\n",
       "      <th>3</th>\n",
       "      <td>111</td>\n",
       "      <td>lost</td>\n",
       "      <td>patient reports a hp computer missing after sh...</td>\n",
       "      <td>2010-07-24 19:07:00</td>\n",
       "      <td>(41.7892116, -87.60406619999999)</td>\n",
       "      <td>2010-07-24 16:00:00</td>\n",
       "    </tr>\n",
       "    <tr>\n",
       "      <th>4</th>\n",
       "      <td>122</td>\n",
       "      <td>lost</td>\n",
       "      <td>patient reports loss of eye glasses</td>\n",
       "      <td>2010-07-25 13:41:00</td>\n",
       "      <td>(41.7892116, -87.60406619999999)</td>\n",
       "      <td>2010-07-23 17:00:00</td>\n",
       "    </tr>\n",
       "  </tbody>\n",
       "</table>\n",
       "</div>"
      ],
      "text/plain": [
       "   Unnamed: 0 Incident                                           Comments  \\\n",
       "0           0     lost  woman reports losing a canon power shot digita...   \n",
       "1           5     lost  staff member reports losing wallet containing ...   \n",
       "2          72     lost  patient's cell phone missing after she transfe...   \n",
       "3         111     lost  patient reports a hp computer missing after sh...   \n",
       "4         122     lost                patient reports loss of eye glasses   \n",
       "\n",
       "             Reported                       Coordinates            Occurred  \n",
       "0 2010-07-01 12:42:00         (41.7892236, -87.5980197) 2010-06-28 19:45:00  \n",
       "1 2010-07-01 23:09:00  (41.66861859999999, -87.7841447) 2010-07-02 03:00:00  \n",
       "2 2010-07-18 19:19:00  (41.7892116, -87.60406619999999) 2010-07-18 19:00:00  \n",
       "3 2010-07-24 19:07:00  (41.7892116, -87.60406619999999) 2010-07-24 16:00:00  \n",
       "4 2010-07-25 13:41:00  (41.7892116, -87.60406619999999) 2010-07-23 17:00:00  "
      ]
     },
     "execution_count": 4,
     "metadata": {},
     "output_type": "execute_result"
    }
   ],
   "source": [
    "data = pd.read_csv('./data/clean_data.csv', converters={'Coordinates':eval},\\\n",
    "                   parse_dates=['Occurred', 'Reported'])\n",
    "data.head()"
   ]
  },
  {
   "cell_type": "code",
   "execution_count": 5,
   "metadata": {
    "scrolled": true
   },
   "outputs": [
    {
     "data": {
      "text/html": [
       "<div>\n",
       "<style scoped>\n",
       "    .dataframe tbody tr th:only-of-type {\n",
       "        vertical-align: middle;\n",
       "    }\n",
       "\n",
       "    .dataframe tbody tr th {\n",
       "        vertical-align: top;\n",
       "    }\n",
       "\n",
       "    .dataframe thead th {\n",
       "        text-align: right;\n",
       "    }\n",
       "</style>\n",
       "<table border=\"1\" class=\"dataframe\">\n",
       "  <thead>\n",
       "    <tr style=\"text-align: right;\">\n",
       "      <th></th>\n",
       "      <th>Unnamed: 0</th>\n",
       "      <th>Incident</th>\n",
       "      <th>Comments</th>\n",
       "      <th>Reported</th>\n",
       "      <th>Coordinates</th>\n",
       "      <th>Occurred</th>\n",
       "      <th>year</th>\n",
       "    </tr>\n",
       "  </thead>\n",
       "  <tbody>\n",
       "    <tr>\n",
       "      <th>0</th>\n",
       "      <td>0</td>\n",
       "      <td>lost</td>\n",
       "      <td>woman reports losing a canon power shot digita...</td>\n",
       "      <td>2010-07-01 12:42:00</td>\n",
       "      <td>(41.7892236, -87.5980197)</td>\n",
       "      <td>2010-06-28 19:45:00</td>\n",
       "      <td>2010.0</td>\n",
       "    </tr>\n",
       "    <tr>\n",
       "      <th>1</th>\n",
       "      <td>5</td>\n",
       "      <td>lost</td>\n",
       "      <td>staff member reports losing wallet containing ...</td>\n",
       "      <td>2010-07-01 23:09:00</td>\n",
       "      <td>(41.66861859999999, -87.7841447)</td>\n",
       "      <td>2010-07-02 03:00:00</td>\n",
       "      <td>2010.0</td>\n",
       "    </tr>\n",
       "    <tr>\n",
       "      <th>2</th>\n",
       "      <td>72</td>\n",
       "      <td>lost</td>\n",
       "      <td>patient's cell phone missing after she transfe...</td>\n",
       "      <td>2010-07-18 19:19:00</td>\n",
       "      <td>(41.7892116, -87.60406619999999)</td>\n",
       "      <td>2010-07-18 19:00:00</td>\n",
       "      <td>2010.0</td>\n",
       "    </tr>\n",
       "    <tr>\n",
       "      <th>3</th>\n",
       "      <td>111</td>\n",
       "      <td>lost</td>\n",
       "      <td>patient reports a hp computer missing after sh...</td>\n",
       "      <td>2010-07-24 19:07:00</td>\n",
       "      <td>(41.7892116, -87.60406619999999)</td>\n",
       "      <td>2010-07-24 16:00:00</td>\n",
       "      <td>2010.0</td>\n",
       "    </tr>\n",
       "    <tr>\n",
       "      <th>4</th>\n",
       "      <td>122</td>\n",
       "      <td>lost</td>\n",
       "      <td>patient reports loss of eye glasses</td>\n",
       "      <td>2010-07-25 13:41:00</td>\n",
       "      <td>(41.7892116, -87.60406619999999)</td>\n",
       "      <td>2010-07-23 17:00:00</td>\n",
       "      <td>2010.0</td>\n",
       "    </tr>\n",
       "  </tbody>\n",
       "</table>\n",
       "</div>"
      ],
      "text/plain": [
       "   Unnamed: 0 Incident                                           Comments  \\\n",
       "0           0     lost  woman reports losing a canon power shot digita...   \n",
       "1           5     lost  staff member reports losing wallet containing ...   \n",
       "2          72     lost  patient's cell phone missing after she transfe...   \n",
       "3         111     lost  patient reports a hp computer missing after sh...   \n",
       "4         122     lost                patient reports loss of eye glasses   \n",
       "\n",
       "             Reported                       Coordinates            Occurred  \\\n",
       "0 2010-07-01 12:42:00         (41.7892236, -87.5980197) 2010-06-28 19:45:00   \n",
       "1 2010-07-01 23:09:00  (41.66861859999999, -87.7841447) 2010-07-02 03:00:00   \n",
       "2 2010-07-18 19:19:00  (41.7892116, -87.60406619999999) 2010-07-18 19:00:00   \n",
       "3 2010-07-24 19:07:00  (41.7892116, -87.60406619999999) 2010-07-24 16:00:00   \n",
       "4 2010-07-25 13:41:00  (41.7892116, -87.60406619999999) 2010-07-23 17:00:00   \n",
       "\n",
       "     year  \n",
       "0  2010.0  \n",
       "1  2010.0  \n",
       "2  2010.0  \n",
       "3  2010.0  \n",
       "4  2010.0  "
      ]
     },
     "execution_count": 5,
     "metadata": {},
     "output_type": "execute_result"
    }
   ],
   "source": [
    "# add year column and groupby it\n",
    "data['year'] = data.Reported.dt.year\n",
    "group_year = data.groupby('year')\n",
    "data.head()"
   ]
  },
  {
   "cell_type": "code",
   "execution_count": 6,
   "metadata": {},
   "outputs": [],
   "source": [
    "def create_map(df, location, year=None, callback=None):\n",
    "    \n",
    "    # initialize map\n",
    "    map_ = folium.Map(location=location, zoom_start=14, min_zoom=14)\n",
    "    \n",
    "    \n",
    "    if isinstance(year, type(None)):\n",
    "        grouped = df.groupby('Incident')\n",
    "        for key in grouped.groups.keys():\n",
    "            data_ = grouped.get_group(key)['Coordinates']\n",
    "            FastMarkerCluster(data=data_, callback=callback, name=key).add_to(map_)\n",
    "            \n",
    "        # make layers interactive\n",
    "        folium.LayerControl().add_to(map_)\n",
    "        return map_\n",
    "        \n",
    "    if year in df.year.unique():\n",
    "        incidents = df.Incident.unique()\n",
    "        grouped = df.groupby(['year', 'Incident'])\n",
    "\n",
    "        for val in incidents:\n",
    "            try:\n",
    "                data_ = grouped.get_group((year, val))['Coordinates']\n",
    "            except KeyError:\n",
    "                # prevents error from years when mental health incidents weren't reported\n",
    "                continue\n",
    "\n",
    "            FastMarkerCluster(data=data_, callback=callback, name=val).add_to(map_)\n",
    "    else:\n",
    "        return \"Enter valid year or leave as None\"\n",
    "    \n",
    "    folium.LayerControl().add_to(map_)\n",
    "    return map_"
   ]
  },
  {
   "cell_type": "code",
   "execution_count": 7,
   "metadata": {},
   "outputs": [],
   "source": [
    "hyde_park = [41.7943, -87.5907]  # location start\n",
    "\n",
    "# string representation of a valid Javascript function \n",
    "callback = \"\"\"\\\n",
    "function (row) {\n",
    "    var icon, marker;\n",
    "    icon = L.AwesomeMarkers.icon({icon: \"map-marker\", markerColor: \"red\"});\n",
    "    marker = L.marker(new L.LatLng(row[0], row[1]));\n",
    "    marker.setIcon(icon);\n",
    "    return marker;\n",
    "};\n",
    "\"\"\""
   ]
  },
  {
   "cell_type": "code",
   "execution_count": 8,
   "metadata": {},
   "outputs": [
    {
     "data": {
      "text/html": [
       "<div style=\"width:100%;\"><div style=\"position:relative;width:100%;height:0;padding-bottom:60%;\"><iframe src=\"data:text/html;charset=utf-8;base64,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\" style=\"position:absolute;width:100%;height:100%;left:0;top:0;border:none !important;\" allowfullscreen webkitallowfullscreen mozallowfullscreen></iframe></div></div>"
      ],
      "text/plain": [
       "<folium.folium.Map at 0x1193512b0>"
      ]
     },
     "execution_count": 8,
     "metadata": {},
     "output_type": "execute_result"
    }
   ],
   "source": [
    "crime_map = create_map(data, location=hyde_park, year=2018, callback=callback)\n",
    "crime_map"
   ]
  },
  {
   "cell_type": "code",
   "execution_count": 8,
   "metadata": {},
   "outputs": [],
   "source": [
    "# save map (uncomment line)\n",
    "#crime_map.save('2018_cluster_map.html')"
   ]
  },
  {
   "cell_type": "code",
   "execution_count": null,
   "metadata": {},
   "outputs": [],
   "source": []
  }
 ],
 "metadata": {
  "kernelspec": {
   "display_name": "Python 3",
   "language": "python",
   "name": "python3"
  },
  "language_info": {
   "codemirror_mode": {
    "name": "ipython",
    "version": 3
   },
   "file_extension": ".py",
   "mimetype": "text/x-python",
   "name": "python",
   "nbconvert_exporter": "python",
   "pygments_lexer": "ipython3",
   "version": "3.7.0"
  }
 },
 "nbformat": 4,
 "nbformat_minor": 2
}
