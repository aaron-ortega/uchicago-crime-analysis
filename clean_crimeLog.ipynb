{
 "cells": [
  {
   "cell_type": "markdown",
   "metadata": {},
   "source": [
    "# Goals in cleaning up the data.\n",
    "1. Extract GPS coordinates from Location column (street address)\n",
    "2. Consolidate number of Incidents (group similar e.g Theft from Motor Vehicle vs. Theft)\n"
   ]
  },
  {
   "cell_type": "code",
   "execution_count": 1,
   "metadata": {},
   "outputs": [],
   "source": [
    "import pandas as pd\n",
    "import numpy as np\n",
    "import re\n",
    "from pprint import pprint"
   ]
  },
  {
   "cell_type": "code",
   "execution_count": 2,
   "metadata": {
    "scrolled": true
   },
   "outputs": [
    {
     "name": "stdout",
     "output_type": "stream",
     "text": [
      "Versions\n",
      "pandas:\t0.23.4\n",
      "numpy:\t1.15.2\n",
      "geopy:\t1.17.0\n",
      "folium:\t0.6.0\n"
     ]
    }
   ],
   "source": [
    "# what am I using?\n",
    "\n",
    "import pkg_resources\n",
    "modules_used = 'pandas,numpy,geopy,folium'.split(',')\n",
    "print('Versions')\n",
    "for mod in modules_used:\n",
    "    print('{}:\\t{}'.format(mod, pkg_resources.get_distribution(mod).version))"
   ]
  },
  {
   "cell_type": "code",
   "execution_count": 3,
   "metadata": {},
   "outputs": [
    {
     "data": {
      "text/plain": [
       "(11240, 7)"
      ]
     },
     "execution_count": 3,
     "metadata": {},
     "output_type": "execute_result"
    }
   ],
   "source": [
    "# import data\n",
    "df = pd.read_json('crimeLogData.json')\n",
    "df.shape"
   ]
  },
  {
   "cell_type": "code",
   "execution_count": 4,
   "metadata": {},
   "outputs": [
    {
     "data": {
      "text/plain": [
       "Index(['Comments', 'Disposition', 'Incident', 'Location', 'Occured',\n",
       "       'Reported', 'UCPD_ID'],\n",
       "      dtype='object')"
      ]
     },
     "execution_count": 4,
     "metadata": {},
     "output_type": "execute_result"
    }
   ],
   "source": [
    "# see columns\n",
    "df.columns"
   ]
  },
  {
   "cell_type": "code",
   "execution_count": 5,
   "metadata": {},
   "outputs": [
    {
     "data": {
      "text/plain": [
       "Index(['Comments', 'Disposition', 'Incident', 'Location', 'Occurred',\n",
       "       'Reported', 'UCPD_ID'],\n",
       "      dtype='object')"
      ]
     },
     "execution_count": 5,
     "metadata": {},
     "output_type": "execute_result"
    }
   ],
   "source": [
    "# (ignore the fact that Occurred is misspelled smh)\n",
    "df.rename(columns={'Occured':'Occurred'}, inplace=True)\n",
    "df.columns"
   ]
  },
  {
   "cell_type": "code",
   "execution_count": 6,
   "metadata": {},
   "outputs": [
    {
     "data": {
      "text/plain": [
       "Comments       object\n",
       "Disposition    object\n",
       "Incident       object\n",
       "Location       object\n",
       "Occurred       object\n",
       "Reported       object\n",
       "UCPD_ID        object\n",
       "dtype: object"
      ]
     },
     "execution_count": 6,
     "metadata": {},
     "output_type": "execute_result"
    }
   ],
   "source": [
    "# check data types per column\n",
    "df.dtypes\n",
    "\n",
    "# BAD: Occured and Reported are not date-time type"
   ]
  },
  {
   "cell_type": "code",
   "execution_count": 7,
   "metadata": {},
   "outputs": [
    {
     "data": {
      "text/html": [
       "<div>\n",
       "<style scoped>\n",
       "    .dataframe tbody tr th:only-of-type {\n",
       "        vertical-align: middle;\n",
       "    }\n",
       "\n",
       "    .dataframe tbody tr th {\n",
       "        vertical-align: top;\n",
       "    }\n",
       "\n",
       "    .dataframe thead th {\n",
       "        text-align: right;\n",
       "    }\n",
       "</style>\n",
       "<table border=\"1\" class=\"dataframe\">\n",
       "  <thead>\n",
       "    <tr style=\"text-align: right;\">\n",
       "      <th></th>\n",
       "      <th>Comments</th>\n",
       "      <th>Disposition</th>\n",
       "      <th>Incident</th>\n",
       "      <th>Location</th>\n",
       "      <th>Occurred</th>\n",
       "      <th>Reported</th>\n",
       "      <th>UCPD_ID</th>\n",
       "    </tr>\n",
       "  </thead>\n",
       "  <tbody>\n",
       "    <tr>\n",
       "      <th>0</th>\n",
       "      <td>Woman reports losing a Canon Power Shot digita...</td>\n",
       "      <td>Closed</td>\n",
       "      <td>Lost Property</td>\n",
       "      <td>5810 S. University (Quad)</td>\n",
       "      <td>6/28/10 2:45 PM</td>\n",
       "      <td>7/1/10 12:42 PM</td>\n",
       "      <td>W0731</td>\n",
       "    </tr>\n",
       "    <tr>\n",
       "      <th>1</th>\n",
       "      <td>Unknown person smashed windshield of a rental ...</td>\n",
       "      <td>Open</td>\n",
       "      <td>Criminal Damage to Vehicle</td>\n",
       "      <td>61st &amp; Drexel</td>\n",
       "      <td>6/29/10 to 7/1/10 3:00 PM to 1:50 PM</td>\n",
       "      <td>7/1/10 2:01 PM</td>\n",
       "      <td>W0732</td>\n",
       "    </tr>\n",
       "    <tr>\n",
       "      <th>2</th>\n",
       "      <td>Unknown person smashed rear passenger's side w...</td>\n",
       "      <td>Open</td>\n",
       "      <td>Theft from Motor Vehicle</td>\n",
       "      <td>60th between Ingleside &amp; Ellis</td>\n",
       "      <td>6/29/10 to 7/1/10 5:30 PM to 12:30 PM</td>\n",
       "      <td>7/1/10 2:48 PM</td>\n",
       "      <td>W0733</td>\n",
       "    </tr>\n",
       "    <tr>\n",
       "      <th>3</th>\n",
       "      <td>Bicycle taken from bike rack</td>\n",
       "      <td>Open</td>\n",
       "      <td>Theft</td>\n",
       "      <td>60th and Ellis</td>\n",
       "      <td>6/23/10 to 6/29/10 9:00 AM to 5:00 PM</td>\n",
       "      <td>7/1/10 3:13 PM</td>\n",
       "      <td>W0734</td>\n",
       "    </tr>\n",
       "    <tr>\n",
       "      <th>4</th>\n",
       "      <td>Bottle slipped from man's hands, broke causing...</td>\n",
       "      <td>Closed</td>\n",
       "      <td>Chemical Spill</td>\n",
       "      <td>924 E. 57th St. (BSLC)</td>\n",
       "      <td>7/1/10 6:15 PM</td>\n",
       "      <td>7/1/10 6:15 PM</td>\n",
       "      <td>W0735</td>\n",
       "    </tr>\n",
       "  </tbody>\n",
       "</table>\n",
       "</div>"
      ],
      "text/plain": [
       "                                            Comments Disposition  \\\n",
       "0  Woman reports losing a Canon Power Shot digita...      Closed   \n",
       "1  Unknown person smashed windshield of a rental ...        Open   \n",
       "2  Unknown person smashed rear passenger's side w...        Open   \n",
       "3                       Bicycle taken from bike rack        Open   \n",
       "4  Bottle slipped from man's hands, broke causing...      Closed   \n",
       "\n",
       "                     Incident                        Location  \\\n",
       "0               Lost Property       5810 S. University (Quad)   \n",
       "1  Criminal Damage to Vehicle                   61st & Drexel   \n",
       "2    Theft from Motor Vehicle  60th between Ingleside & Ellis   \n",
       "3                    Theft                     60th and Ellis   \n",
       "4              Chemical Spill          924 E. 57th St. (BSLC)   \n",
       "\n",
       "                                Occurred         Reported UCPD_ID  \n",
       "0                        6/28/10 2:45 PM  7/1/10 12:42 PM   W0731  \n",
       "1   6/29/10 to 7/1/10 3:00 PM to 1:50 PM   7/1/10 2:01 PM   W0732  \n",
       "2  6/29/10 to 7/1/10 5:30 PM to 12:30 PM   7/1/10 2:48 PM   W0733  \n",
       "3  6/23/10 to 6/29/10 9:00 AM to 5:00 PM   7/1/10 3:13 PM   W0734  \n",
       "4                         7/1/10 6:15 PM   7/1/10 6:15 PM   W0735  "
      ]
     },
     "execution_count": 7,
     "metadata": {},
     "output_type": "execute_result"
    }
   ],
   "source": [
    "# peek inside\n",
    "df.head()"
   ]
  },
  {
   "cell_type": "code",
   "execution_count": 8,
   "metadata": {},
   "outputs": [
    {
     "data": {
      "text/html": [
       "<div>\n",
       "<style scoped>\n",
       "    .dataframe tbody tr th:only-of-type {\n",
       "        vertical-align: middle;\n",
       "    }\n",
       "\n",
       "    .dataframe tbody tr th {\n",
       "        vertical-align: top;\n",
       "    }\n",
       "\n",
       "    .dataframe thead th {\n",
       "        text-align: right;\n",
       "    }\n",
       "</style>\n",
       "<table border=\"1\" class=\"dataframe\">\n",
       "  <thead>\n",
       "    <tr style=\"text-align: right;\">\n",
       "      <th></th>\n",
       "      <th>Comments</th>\n",
       "      <th>Disposition</th>\n",
       "      <th>Incident</th>\n",
       "      <th>Location</th>\n",
       "      <th>Occurred</th>\n",
       "      <th>Reported</th>\n",
       "      <th>UCPD_ID</th>\n",
       "    </tr>\n",
       "  </thead>\n",
       "  <tbody>\n",
       "    <tr>\n",
       "      <th>9010</th>\n",
       "      <td>Individual reports losing iPhone, possibly on ...</td>\n",
       "      <td>Closed</td>\n",
       "      <td>Lost Property</td>\n",
       "      <td>5640 S. Ellis to 56th &amp; Cornell</td>\n",
       "      <td>3/17/17 10:00 PM to 11:00 PM</td>\n",
       "      <td>3/18/17 10:55 AM</td>\n",
       "      <td>17-00215</td>\n",
       "    </tr>\n",
       "    <tr>\n",
       "      <th>9011</th>\n",
       "      <td>Individual collapsed during a track meet / Tra...</td>\n",
       "      <td>Closed</td>\n",
       "      <td>Medical Call</td>\n",
       "      <td>5550 S. University (Crown Field House)</td>\n",
       "      <td>3/18/17 12:45 PM</td>\n",
       "      <td>3/18/17 12:45 PM</td>\n",
       "      <td>17-00216</td>\n",
       "    </tr>\n",
       "    <tr>\n",
       "      <th>9012</th>\n",
       "      <td>3 unknown suspects struck victim with fists an...</td>\n",
       "      <td>CPD</td>\n",
       "      <td>Information / Robbery / Vehicle Hijacking</td>\n",
       "      <td>5558 S. Kimbark</td>\n",
       "      <td>3/18/17 4:05 PM</td>\n",
       "      <td>3/18/17 4:07 PM</td>\n",
       "      <td>17-00217</td>\n",
       "    </tr>\n",
       "    <tr>\n",
       "      <th>9013</th>\n",
       "      <td>Number generated in error</td>\n",
       "      <td>Void</td>\n",
       "      <td>Void</td>\n",
       "      <td>Void</td>\n",
       "      <td>Void</td>\n",
       "      <td>Void</td>\n",
       "      <td>17-00218</td>\n",
       "    </tr>\n",
       "    <tr>\n",
       "      <th>9014</th>\n",
       "      <td>NaN</td>\n",
       "      <td>NaN</td>\n",
       "      <td>:</td>\n",
       "      <td>NaN</td>\n",
       "      <td>NaN</td>\n",
       "      <td>NaN</td>\n",
       "      <td>NaN</td>\n",
       "    </tr>\n",
       "    <tr>\n",
       "      <th>9015</th>\n",
       "      <td>NaN</td>\n",
       "      <td>NaN</td>\n",
       "      <td>No Incident Reports this date 3/19/17</td>\n",
       "      <td>NaN</td>\n",
       "      <td>NaN</td>\n",
       "      <td>NaN</td>\n",
       "      <td>NaN</td>\n",
       "    </tr>\n",
       "    <tr>\n",
       "      <th>9016</th>\n",
       "      <td>NaN</td>\n",
       "      <td>NaN</td>\n",
       "      <td>:</td>\n",
       "      <td>NaN</td>\n",
       "      <td>NaN</td>\n",
       "      <td>NaN</td>\n",
       "      <td>NaN</td>\n",
       "    </tr>\n",
       "    <tr>\n",
       "      <th>9017</th>\n",
       "      <td>11 aluminum support beams taken from bleachers...</td>\n",
       "      <td>Open</td>\n",
       "      <td>Theft</td>\n",
       "      <td>821 E. 55th St. (Stagg Field)</td>\n",
       "      <td>3/17/17 to 3/20/17 2:00 PM to 10:30 AM</td>\n",
       "      <td>3/20/17 11:05 AM</td>\n",
       "      <td>17-00219</td>\n",
       "    </tr>\n",
       "    <tr>\n",
       "      <th>9018</th>\n",
       "      <td>U.S. passport left unattended on copy machine ...</td>\n",
       "      <td>Open</td>\n",
       "      <td>Theft</td>\n",
       "      <td>1009 E. 57th St. (Hitchcock RH)</td>\n",
       "      <td>2/14/17 9:50 AM</td>\n",
       "      <td>3/20/17 12:26 PM</td>\n",
       "      <td>17-00220</td>\n",
       "    </tr>\n",
       "    <tr>\n",
       "      <th>9019</th>\n",
       "      <td>An unauthorized individual sleeping in the bui...</td>\n",
       "      <td>Ex. Cleared</td>\n",
       "      <td>Assault</td>\n",
       "      <td>6019 S. Ingleside (Campus Housing)</td>\n",
       "      <td>3/20/17 7:50 AM</td>\n",
       "      <td>3/20/17 3:20 PM</td>\n",
       "      <td>17-00221</td>\n",
       "    </tr>\n",
       "  </tbody>\n",
       "</table>\n",
       "</div>"
      ],
      "text/plain": [
       "                                               Comments  Disposition  \\\n",
       "9010  Individual reports losing iPhone, possibly on ...       Closed   \n",
       "9011  Individual collapsed during a track meet / Tra...       Closed   \n",
       "9012  3 unknown suspects struck victim with fists an...          CPD   \n",
       "9013                          Number generated in error         Void   \n",
       "9014                                                NaN          NaN   \n",
       "9015                                                NaN          NaN   \n",
       "9016                                                NaN          NaN   \n",
       "9017  11 aluminum support beams taken from bleachers...         Open   \n",
       "9018  U.S. passport left unattended on copy machine ...         Open   \n",
       "9019  An unauthorized individual sleeping in the bui...  Ex. Cleared   \n",
       "\n",
       "                                       Incident  \\\n",
       "9010                              Lost Property   \n",
       "9011                               Medical Call   \n",
       "9012  Information / Robbery / Vehicle Hijacking   \n",
       "9013                                       Void   \n",
       "9014                                          :   \n",
       "9015      No Incident Reports this date 3/19/17   \n",
       "9016                                          :   \n",
       "9017                                      Theft   \n",
       "9018                                      Theft   \n",
       "9019                                    Assault   \n",
       "\n",
       "                                    Location  \\\n",
       "9010         5640 S. Ellis to 56th & Cornell   \n",
       "9011  5550 S. University (Crown Field House)   \n",
       "9012                         5558 S. Kimbark   \n",
       "9013                                    Void   \n",
       "9014                                     NaN   \n",
       "9015                                     NaN   \n",
       "9016                                     NaN   \n",
       "9017           821 E. 55th St. (Stagg Field)   \n",
       "9018         1009 E. 57th St. (Hitchcock RH)   \n",
       "9019      6019 S. Ingleside (Campus Housing)   \n",
       "\n",
       "                                    Occurred          Reported   UCPD_ID  \n",
       "9010            3/17/17 10:00 PM to 11:00 PM  3/18/17 10:55 AM  17-00215  \n",
       "9011                        3/18/17 12:45 PM  3/18/17 12:45 PM  17-00216  \n",
       "9012                         3/18/17 4:05 PM   3/18/17 4:07 PM  17-00217  \n",
       "9013                                    Void              Void  17-00218  \n",
       "9014                                     NaN               NaN       NaN  \n",
       "9015                                     NaN               NaN       NaN  \n",
       "9016                                     NaN               NaN       NaN  \n",
       "9017  3/17/17 to 3/20/17 2:00 PM to 10:30 AM  3/20/17 11:05 AM  17-00219  \n",
       "9018                         2/14/17 9:50 AM  3/20/17 12:26 PM  17-00220  \n",
       "9019                         3/20/17 7:50 AM   3/20/17 3:20 PM  17-00221  "
      ]
     },
     "execution_count": 8,
     "metadata": {},
     "output_type": "execute_result"
    }
   ],
   "source": [
    "# remove bad data\n",
    "'''\n",
    "NaN corresponds to \"No Incident Reports\" & missing data, and\n",
    "voids to some internal error\n",
    "'''\n",
    "df[9010:9020]  # preview"
   ]
  },
  {
   "cell_type": "code",
   "execution_count": 9,
   "metadata": {
    "scrolled": true
   },
   "outputs": [
    {
     "data": {
      "text/plain": [
       "(10075, 7)"
      ]
     },
     "execution_count": 9,
     "metadata": {},
     "output_type": "execute_result"
    }
   ],
   "source": [
    "# remove nan values\n",
    "df = df.dropna()\n",
    "\n",
    "# remove voids (check for error in comments column)\n",
    "void_err = lambda x: re.search(r'error', x) is None\n",
    "df = df[df['Comments'].apply(void_err)]\n",
    "df.shape"
   ]
  },
  {
   "cell_type": "code",
   "execution_count": 10,
   "metadata": {
    "scrolled": true
   },
   "outputs": [],
   "source": [
    "# lowercase and strip first four columns\n",
    "\n",
    "for col in df.columns[[0, 1, 2, 3]]:\n",
    "    df[col] = df[col].apply(lambda x: x.lower().strip())"
   ]
  },
  {
   "cell_type": "markdown",
   "metadata": {},
   "source": [
    "## Extract GPS coordinate\n",
    "We use the geopy, a geocoding web service, module to interact with Google Maps API.\n",
    "We have addresses that need geolocation coordinates."
   ]
  },
  {
   "cell_type": "code",
   "execution_count": 11,
   "metadata": {},
   "outputs": [],
   "source": [
    "from geopy.geocoders import GoogleV3\n",
    "from geopy.exc import GeocoderTimedOut"
   ]
  },
  {
   "cell_type": "code",
   "execution_count": 12,
   "metadata": {},
   "outputs": [],
   "source": [
    "# get api-key (unique to user, get a key in the link below)\n",
    "# https://developers.google.com/maps/documentation/geocoding/start\n",
    "with open('google-maps-api/api-key.txt', 'r') as f:\n",
    "    key = f.readline()\n",
    "\n",
    "# setup geolocator using Google Maps API\n",
    "geolocator = GoogleV3(api_key=key, user_agent=\"uchicago_surronding_area\", format_string=\"%s, Chicago, IL\")"
   ]
  },
  {
   "cell_type": "code",
   "execution_count": null,
   "metadata": {},
   "outputs": [],
   "source": []
  },
  {
   "cell_type": "code",
   "execution_count": 13,
   "metadata": {},
   "outputs": [],
   "source": [
    "'''\n",
    "Function takes an address as a string and formats to improve \n",
    "likelihood of getting gps coordinates from geocode.\n",
    "\n",
    "Returns:\n",
    "    If location found: a tuple containing the latitude & longitude\n",
    "    If not: an integer code (user defined)\n",
    "'''\n",
    "def address2coordinates(address):\n",
    "    \n",
    "    # adding \"avenue\" helps narrow down location\n",
    "    def addAvenue(address):\n",
    "        avenues = 'cottage grove,drexel,ingleside,ellis,greenwood,university,woodlawn,kimbark,\\\n",
    "kenwood,dorchester,blackstone,harper,lake park,stony island,cornell,everett'.split(',')\n",
    "        \n",
    "        for ave in avenues:\n",
    "            if re.search(ave, address):\n",
    "                address += ' avenue'\n",
    "                break\n",
    "                \n",
    "        return address\n",
    "\n",
    "    \n",
    "    address = re.sub(r' \\(.*\\)', '', address.lower())  # remove parenthetical info\n",
    "    address = re.sub(r' at|and ', ' & ', address)      # fix intersection\n",
    "    \n",
    "    try:\n",
    "        # check if address is between streets\n",
    "        # e.g. (52nd St. between Greenwood & University)\n",
    "        pattern = re.findall(r'(\\w.*(?= between)) between ((?<=between )\\w.*(?= &)) & ((?<=\\& )\\w.*)', address)[0]\n",
    "        street_1 = '{} {}'.format(pattern[0], pattern[1])\n",
    "        street_2 = '{} {}'.format(pattern[0], pattern[2])\n",
    "        location_1 = geolocator.geocode(addAvenue(street_1), timeout=10)  # server timeout time is 10sec\n",
    "        location_2 = geolocator.geocode(addAvenue(street_2), timeout=10)\n",
    "        \n",
    "        # returns midpoint coordinates between the two locations\n",
    "        # e.g. (52nd st. greenwood avenue / 52nd st. university avenue)\n",
    "        return ((location_1.latitude + location_2.latitude)/2, (location_1.longitude + location_2.longitude)/2)\n",
    "            \n",
    "    except IndexError:\n",
    "        # only single address\n",
    "        location = geolocator.geocode(address, timeout=10)\n",
    "        if location != None:\n",
    "            return (location.latitude, location.longitude)\n",
    "        \n",
    "    except GeocoderTimedOut:\n",
    "        # server timeout value if any (check later)\n",
    "        print('Server timeout!')\n",
    "    \n",
    "    except:\n",
    "        # error value will point to unforseen error if any (check later)\n",
    "        print('An error occurred!')\n",
    "        return 999\n",
    "    \n",
    "    return 0"
   ]
  },
  {
   "cell_type": "code",
   "execution_count": 14,
   "metadata": {},
   "outputs": [],
   "source": [
    "# add a progress bar for the next cell (over 10K lines)\n",
    "from tqdm._tqdm_notebook import tqdm_notebook\n",
    "\n",
    "# change pandas apply to progress_apply\n",
    "# tqdm adds minute overhead (~90ns; see tqdm documentation) \n",
    "tqdm_notebook.pandas(desc=\"Geocoding Progress!\")  "
   ]
  },
  {
   "cell_type": "code",
   "execution_count": 12,
   "metadata": {
    "collapsed": true
   },
   "outputs": [
    {
     "data": {
      "application/vnd.jupyter.widget-view+json": {
       "model_id": "8c957f0c71174ea2830c235d3ecfc8ca",
       "version_major": 2,
       "version_minor": 0
      },
      "text/html": [
       "<p>Failed to display Jupyter Widget of type <code>HBox</code>.</p>\n",
       "<p>\n",
       "  If you're reading this message in the Jupyter Notebook or JupyterLab Notebook, it may mean\n",
       "  that the widgets JavaScript is still loading. If this message persists, it\n",
       "  likely means that the widgets JavaScript library is either not installed or\n",
       "  not enabled. See the <a href=\"https://ipywidgets.readthedocs.io/en/stable/user_install.html\">Jupyter\n",
       "  Widgets Documentation</a> for setup instructions.\n",
       "</p>\n",
       "<p>\n",
       "  If you're reading this message in another frontend (for example, a static\n",
       "  rendering on GitHub or <a href=\"https://nbviewer.jupyter.org/\">NBViewer</a>),\n",
       "  it may mean that your frontend doesn't currently support widgets.\n",
       "</p>\n"
      ],
      "text/plain": [
       "HBox(children=(IntProgress(value=0, description='Geocoding Progress!', max=2015), HTML(value='')))"
      ]
     },
     "metadata": {},
     "output_type": "display_data"
    },
    {
     "name": "stdout",
     "output_type": "stream",
     "text": [
      "\n"
     ]
    },
    {
     "data": {
      "application/vnd.jupyter.widget-view+json": {
       "model_id": "a20e271e7dee48c0b0441be00f926eb3",
       "version_major": 2,
       "version_minor": 0
      },
      "text/html": [
       "<p>Failed to display Jupyter Widget of type <code>HBox</code>.</p>\n",
       "<p>\n",
       "  If you're reading this message in the Jupyter Notebook or JupyterLab Notebook, it may mean\n",
       "  that the widgets JavaScript is still loading. If this message persists, it\n",
       "  likely means that the widgets JavaScript library is either not installed or\n",
       "  not enabled. See the <a href=\"https://ipywidgets.readthedocs.io/en/stable/user_install.html\">Jupyter\n",
       "  Widgets Documentation</a> for setup instructions.\n",
       "</p>\n",
       "<p>\n",
       "  If you're reading this message in another frontend (for example, a static\n",
       "  rendering on GitHub or <a href=\"https://nbviewer.jupyter.org/\">NBViewer</a>),\n",
       "  it may mean that your frontend doesn't currently support widgets.\n",
       "</p>\n"
      ],
      "text/plain": [
       "HBox(children=(IntProgress(value=0, description='Geocoding Progress!', max=2015), HTML(value='')))"
      ]
     },
     "metadata": {},
     "output_type": "display_data"
    },
    {
     "name": "stdout",
     "output_type": "stream",
     "text": [
      "\n"
     ]
    },
    {
     "data": {
      "application/vnd.jupyter.widget-view+json": {
       "model_id": "148bb9445b2d48f793a5d70fb719adeb",
       "version_major": 2,
       "version_minor": 0
      },
      "text/html": [
       "<p>Failed to display Jupyter Widget of type <code>HBox</code>.</p>\n",
       "<p>\n",
       "  If you're reading this message in the Jupyter Notebook or JupyterLab Notebook, it may mean\n",
       "  that the widgets JavaScript is still loading. If this message persists, it\n",
       "  likely means that the widgets JavaScript library is either not installed or\n",
       "  not enabled. See the <a href=\"https://ipywidgets.readthedocs.io/en/stable/user_install.html\">Jupyter\n",
       "  Widgets Documentation</a> for setup instructions.\n",
       "</p>\n",
       "<p>\n",
       "  If you're reading this message in another frontend (for example, a static\n",
       "  rendering on GitHub or <a href=\"https://nbviewer.jupyter.org/\">NBViewer</a>),\n",
       "  it may mean that your frontend doesn't currently support widgets.\n",
       "</p>\n"
      ],
      "text/plain": [
       "HBox(children=(IntProgress(value=0, description='Geocoding Progress!', max=2015), HTML(value='')))"
      ]
     },
     "metadata": {},
     "output_type": "display_data"
    },
    {
     "name": "stdout",
     "output_type": "stream",
     "text": [
      "\n"
     ]
    },
    {
     "data": {
      "application/vnd.jupyter.widget-view+json": {
       "model_id": "0afad2c8093b4b16b678c0ca46b42b1d",
       "version_major": 2,
       "version_minor": 0
      },
      "text/html": [
       "<p>Failed to display Jupyter Widget of type <code>HBox</code>.</p>\n",
       "<p>\n",
       "  If you're reading this message in the Jupyter Notebook or JupyterLab Notebook, it may mean\n",
       "  that the widgets JavaScript is still loading. If this message persists, it\n",
       "  likely means that the widgets JavaScript library is either not installed or\n",
       "  not enabled. See the <a href=\"https://ipywidgets.readthedocs.io/en/stable/user_install.html\">Jupyter\n",
       "  Widgets Documentation</a> for setup instructions.\n",
       "</p>\n",
       "<p>\n",
       "  If you're reading this message in another frontend (for example, a static\n",
       "  rendering on GitHub or <a href=\"https://nbviewer.jupyter.org/\">NBViewer</a>),\n",
       "  it may mean that your frontend doesn't currently support widgets.\n",
       "</p>\n"
      ],
      "text/plain": [
       "HBox(children=(IntProgress(value=0, description='Geocoding Progress!', max=2015), HTML(value='')))"
      ]
     },
     "metadata": {},
     "output_type": "display_data"
    },
    {
     "name": "stdout",
     "output_type": "stream",
     "text": [
      "\n"
     ]
    },
    {
     "data": {
      "application/vnd.jupyter.widget-view+json": {
       "model_id": "dccc812bac544e498db2670d2d92cde5",
       "version_major": 2,
       "version_minor": 0
      },
      "text/html": [
       "<p>Failed to display Jupyter Widget of type <code>HBox</code>.</p>\n",
       "<p>\n",
       "  If you're reading this message in the Jupyter Notebook or JupyterLab Notebook, it may mean\n",
       "  that the widgets JavaScript is still loading. If this message persists, it\n",
       "  likely means that the widgets JavaScript library is either not installed or\n",
       "  not enabled. See the <a href=\"https://ipywidgets.readthedocs.io/en/stable/user_install.html\">Jupyter\n",
       "  Widgets Documentation</a> for setup instructions.\n",
       "</p>\n",
       "<p>\n",
       "  If you're reading this message in another frontend (for example, a static\n",
       "  rendering on GitHub or <a href=\"https://nbviewer.jupyter.org/\">NBViewer</a>),\n",
       "  it may mean that your frontend doesn't currently support widgets.\n",
       "</p>\n"
      ],
      "text/plain": [
       "HBox(children=(IntProgress(value=0, description='Geocoding Progress!', max=2015), HTML(value='')))"
      ]
     },
     "metadata": {},
     "output_type": "display_data"
    },
    {
     "name": "stdout",
     "output_type": "stream",
     "text": [
      "\n"
     ]
    }
   ],
   "source": [
    "# create batch and save files as checkpoints\n",
    "batch = np.linspace(0, df['Location'].shape[0], 6, dtype=int) # each will have 2015 entries\n",
    "for i in range(1, 6):\n",
    "    coordinates = df['Location'][batch[i-1]: batch[i]].progress_apply(address2coordinates)\n",
    "    coordinates.to_csv(('data/coordinates/coordinates_{}.csv'.format(i)))"
   ]
  },
  {
   "cell_type": "code",
   "execution_count": 16,
   "metadata": {
    "scrolled": true
   },
   "outputs": [],
   "source": [
    "# concatenate csv files and save\n",
    "\n",
    "# use magic command to find path to files\n",
    "filenames = !find -L data -name \"*.csv\"\n",
    "\n",
    "coordinates = pd.concat([pd.read_csv(file, header=None) for file in filenames])\n",
    "coordinates = coordinates.set_index(0)  # fix index"
   ]
  },
  {
   "cell_type": "code",
   "execution_count": 17,
   "metadata": {},
   "outputs": [
    {
     "name": "stdout",
     "output_type": "stream",
     "text": [
      "Number of timeouts:\t7\n",
      "Number of 999 errors:\t0\n"
     ]
    }
   ],
   "source": [
    "# where are errors 0 (server timeout) and 999 (other error) if any\n",
    "server_timeout = np.argwhere(coordinates.values=='0')[:, 0]\n",
    "error_999 = np.argwhere(coordinates.values=='999')[:, 0]\n",
    "\n",
    "# how many issues?\n",
    "print('Number of timeouts:\\t{}\\nNumber of 999 errors:\\t{}'.format(len(server_timeout), len(error_999)))"
   ]
  },
  {
   "cell_type": "code",
   "execution_count": 18,
   "metadata": {},
   "outputs": [
    {
     "data": {
      "text/plain": [
       "array(['various campus buildings', '220 w. garfield to 1000 e. 55th st.',\n",
       "       '53rd & kimbark to 60th & ingleside',\n",
       "       '900 e. 57th st. (knapp center)', '5250 s. harper ct.',\n",
       "       '5640 s. ellis to 56th & cornell',\n",
       "       '5525 s. cottage grove (public way)'], dtype=object)"
      ]
     },
     "execution_count": 18,
     "metadata": {},
     "output_type": "execute_result"
    }
   ],
   "source": [
    "'''\n",
    "REMOVE:\n",
    "'Various Campus Buildings' - invalid address\n",
    "220 W. - lost propert Public Transit\n",
    "53rd - lost cellphone\n",
    "5640 S. - lost propert Public Transit\n",
    "\n",
    "WHY:\n",
    "Invalid Address or wide street range\n",
    "'''\n",
    "\n",
    "# redo timeouts\n",
    "redo_addresses = df['Location'].values[server_timeout]\n",
    "redo_addresses"
   ]
  },
  {
   "cell_type": "code",
   "execution_count": 19,
   "metadata": {
    "scrolled": false
   },
   "outputs": [
    {
     "data": {
      "text/plain": [
       "[0,\n",
       " 0,\n",
       " 0,\n",
       " (41.7916469, -87.6034081),\n",
       " (41.8000246, -87.58818049999999),\n",
       " 0,\n",
       " (41.794078, -87.60576200000001)]"
      ]
     },
     "execution_count": 19,
     "metadata": {},
     "output_type": "execute_result"
    }
   ],
   "source": [
    "# get geolocation again\n",
    "redo_list = [address2coordinates(arr) for arr in redo_addresses]\n",
    "redo_list"
   ]
  },
  {
   "cell_type": "code",
   "execution_count": 20,
   "metadata": {},
   "outputs": [
    {
     "data": {
      "text/html": [
       "<div>\n",
       "<style scoped>\n",
       "    .dataframe tbody tr th:only-of-type {\n",
       "        vertical-align: middle;\n",
       "    }\n",
       "\n",
       "    .dataframe tbody tr th {\n",
       "        vertical-align: top;\n",
       "    }\n",
       "\n",
       "    .dataframe thead th {\n",
       "        text-align: right;\n",
       "    }\n",
       "</style>\n",
       "<table border=\"1\" class=\"dataframe\">\n",
       "  <thead>\n",
       "    <tr style=\"text-align: right;\">\n",
       "      <th></th>\n",
       "      <th>1</th>\n",
       "    </tr>\n",
       "    <tr>\n",
       "      <th>0</th>\n",
       "      <th></th>\n",
       "    </tr>\n",
       "  </thead>\n",
       "  <tbody>\n",
       "    <tr>\n",
       "      <th>107</th>\n",
       "      <td>0</td>\n",
       "    </tr>\n",
       "    <tr>\n",
       "      <th>3467</th>\n",
       "      <td>0</td>\n",
       "    </tr>\n",
       "    <tr>\n",
       "      <th>4052</th>\n",
       "      <td>0</td>\n",
       "    </tr>\n",
       "    <tr>\n",
       "      <th>4593</th>\n",
       "      <td>(41.7916469, -87.6034081)</td>\n",
       "    </tr>\n",
       "    <tr>\n",
       "      <th>6449</th>\n",
       "      <td>(41.8000246, -87.58818049999999)</td>\n",
       "    </tr>\n",
       "    <tr>\n",
       "      <th>9010</th>\n",
       "      <td>0</td>\n",
       "    </tr>\n",
       "    <tr>\n",
       "      <th>11063</th>\n",
       "      <td>(41.794078, -87.60576200000001)</td>\n",
       "    </tr>\n",
       "  </tbody>\n",
       "</table>\n",
       "</div>"
      ],
      "text/plain": [
       "                                      1\n",
       "0                                      \n",
       "107                                   0\n",
       "3467                                  0\n",
       "4052                                  0\n",
       "4593          (41.7916469, -87.6034081)\n",
       "6449   (41.8000246, -87.58818049999999)\n",
       "9010                                  0\n",
       "11063   (41.794078, -87.60576200000001)"
      ]
     },
     "execution_count": 20,
     "metadata": {},
     "output_type": "execute_result"
    }
   ],
   "source": [
    "# pd.to_csv wrote data as a string\n",
    "# that's why we are converting here\n",
    "# easy fix using eval() will follow below\n",
    "redo_list = np.array(list(map(str, redo_list)))[:, np.newaxis]\n",
    "\n",
    "coordinates.iloc[server_timeout] = redo_list\n",
    "coordinates.iloc[server_timeout]"
   ]
  },
  {
   "cell_type": "code",
   "execution_count": 21,
   "metadata": {},
   "outputs": [],
   "source": [
    "# change string tuple coordinates to tuple with numberic coordinates\n",
    "coordinates = coordinates[1].apply(eval)  \n",
    "\n",
    "# save fix merge\n",
    "coordinates.to_csv('data/coordinates/merged_coordinates.csv')"
   ]
  },
  {
   "cell_type": "code",
   "execution_count": 22,
   "metadata": {
    "scrolled": true
   },
   "outputs": [
    {
     "data": {
      "text/plain": [
       "(10075, 8)"
      ]
     },
     "execution_count": 22,
     "metadata": {},
     "output_type": "execute_result"
    }
   ],
   "source": [
    "# add all coordinates to dataframe\n",
    "df['Coordinates'] = coordinates.values\n",
    "df.shape"
   ]
  },
  {
   "cell_type": "code",
   "execution_count": 23,
   "metadata": {
    "scrolled": false
   },
   "outputs": [
    {
     "data": {
      "text/plain": [
       "(10071,)"
      ]
     },
     "execution_count": 23,
     "metadata": {},
     "output_type": "execute_result"
    }
   ],
   "source": [
    "#drop rows with coordinate = 0\n",
    "df = df[df['Coordinates'] != 0]\n",
    "df['Coordinates'].shape"
   ]
  },
  {
   "cell_type": "code",
   "execution_count": 24,
   "metadata": {},
   "outputs": [
    {
     "data": {
      "text/plain": [
       "(10032, 8)"
      ]
     },
     "execution_count": 24,
     "metadata": {},
     "output_type": "execute_result"
    }
   ],
   "source": [
    "# some voids weren't picked up \n",
    "# remove them\n",
    "df = df[df['Disposition']!='void']\n",
    "df.shape"
   ]
  },
  {
   "cell_type": "code",
   "execution_count": 25,
   "metadata": {
    "scrolled": true
   },
   "outputs": [
    {
     "data": {
      "text/html": [
       "<div>\n",
       "<style scoped>\n",
       "    .dataframe tbody tr th:only-of-type {\n",
       "        vertical-align: middle;\n",
       "    }\n",
       "\n",
       "    .dataframe tbody tr th {\n",
       "        vertical-align: top;\n",
       "    }\n",
       "\n",
       "    .dataframe thead th {\n",
       "        text-align: right;\n",
       "    }\n",
       "</style>\n",
       "<table border=\"1\" class=\"dataframe\">\n",
       "  <thead>\n",
       "    <tr style=\"text-align: right;\">\n",
       "      <th></th>\n",
       "      <th>Comments</th>\n",
       "      <th>Disposition</th>\n",
       "      <th>Incident</th>\n",
       "      <th>Location</th>\n",
       "      <th>Occurred</th>\n",
       "      <th>Reported</th>\n",
       "      <th>UCPD_ID</th>\n",
       "      <th>Coordinates</th>\n",
       "    </tr>\n",
       "  </thead>\n",
       "  <tbody>\n",
       "    <tr>\n",
       "      <th>0</th>\n",
       "      <td>woman reports losing a canon power shot digita...</td>\n",
       "      <td>closed</td>\n",
       "      <td>lost property</td>\n",
       "      <td>5810 s. university (quad)</td>\n",
       "      <td>6/28/10 2:45 PM</td>\n",
       "      <td>7/1/10 12:42 PM</td>\n",
       "      <td>W0731</td>\n",
       "      <td>(41.7892236, -87.5980197)</td>\n",
       "    </tr>\n",
       "    <tr>\n",
       "      <th>1</th>\n",
       "      <td>unknown person smashed windshield of a rental ...</td>\n",
       "      <td>open</td>\n",
       "      <td>criminal damage to vehicle</td>\n",
       "      <td>61st &amp; drexel</td>\n",
       "      <td>6/29/10 to 7/1/10 3:00 PM to 1:50 PM</td>\n",
       "      <td>7/1/10 2:01 PM</td>\n",
       "      <td>W0732</td>\n",
       "      <td>(41.7840731, -87.6043863)</td>\n",
       "    </tr>\n",
       "    <tr>\n",
       "      <th>2</th>\n",
       "      <td>unknown person smashed rear passenger's side w...</td>\n",
       "      <td>open</td>\n",
       "      <td>theft from motor vehicle</td>\n",
       "      <td>60th between ingleside &amp; ellis</td>\n",
       "      <td>6/29/10 to 7/1/10 5:30 PM to 12:30 PM</td>\n",
       "      <td>7/1/10 2:48 PM</td>\n",
       "      <td>W0733</td>\n",
       "      <td>(41.785901249999995, -87.60199659999999)</td>\n",
       "    </tr>\n",
       "    <tr>\n",
       "      <th>3</th>\n",
       "      <td>bicycle taken from bike rack</td>\n",
       "      <td>open</td>\n",
       "      <td>theft</td>\n",
       "      <td>60th and ellis</td>\n",
       "      <td>6/23/10 to 6/29/10 9:00 AM to 5:00 PM</td>\n",
       "      <td>7/1/10 3:13 PM</td>\n",
       "      <td>W0734</td>\n",
       "      <td>(41.7859081, -87.6011825)</td>\n",
       "    </tr>\n",
       "    <tr>\n",
       "      <th>4</th>\n",
       "      <td>bottle slipped from man's hands, broke causing...</td>\n",
       "      <td>closed</td>\n",
       "      <td>chemical spill</td>\n",
       "      <td>924 e. 57th st. (bslc)</td>\n",
       "      <td>7/1/10 6:15 PM</td>\n",
       "      <td>7/1/10 6:15 PM</td>\n",
       "      <td>W0735</td>\n",
       "      <td>(41.7919425, -87.60283989999999)</td>\n",
       "    </tr>\n",
       "  </tbody>\n",
       "</table>\n",
       "</div>"
      ],
      "text/plain": [
       "                                            Comments Disposition  \\\n",
       "0  woman reports losing a canon power shot digita...      closed   \n",
       "1  unknown person smashed windshield of a rental ...        open   \n",
       "2  unknown person smashed rear passenger's side w...        open   \n",
       "3                       bicycle taken from bike rack        open   \n",
       "4  bottle slipped from man's hands, broke causing...      closed   \n",
       "\n",
       "                     Incident                        Location  \\\n",
       "0               lost property       5810 s. university (quad)   \n",
       "1  criminal damage to vehicle                   61st & drexel   \n",
       "2    theft from motor vehicle  60th between ingleside & ellis   \n",
       "3                       theft                  60th and ellis   \n",
       "4              chemical spill          924 e. 57th st. (bslc)   \n",
       "\n",
       "                                Occurred         Reported UCPD_ID  \\\n",
       "0                        6/28/10 2:45 PM  7/1/10 12:42 PM   W0731   \n",
       "1   6/29/10 to 7/1/10 3:00 PM to 1:50 PM   7/1/10 2:01 PM   W0732   \n",
       "2  6/29/10 to 7/1/10 5:30 PM to 12:30 PM   7/1/10 2:48 PM   W0733   \n",
       "3  6/23/10 to 6/29/10 9:00 AM to 5:00 PM   7/1/10 3:13 PM   W0734   \n",
       "4                         7/1/10 6:15 PM   7/1/10 6:15 PM   W0735   \n",
       "\n",
       "                                Coordinates  \n",
       "0                 (41.7892236, -87.5980197)  \n",
       "1                 (41.7840731, -87.6043863)  \n",
       "2  (41.785901249999995, -87.60199659999999)  \n",
       "3                 (41.7859081, -87.6011825)  \n",
       "4          (41.7919425, -87.60283989999999)  "
      ]
     },
     "execution_count": 25,
     "metadata": {},
     "output_type": "execute_result"
    }
   ],
   "source": [
    "# reset index since all bad data is dropped\n",
    "df.reset_index(drop=True)\n",
    "df.head()"
   ]
  },
  {
   "cell_type": "code",
   "execution_count": null,
   "metadata": {},
   "outputs": [],
   "source": []
  },
  {
   "cell_type": "code",
   "execution_count": null,
   "metadata": {},
   "outputs": [],
   "source": []
  },
  {
   "cell_type": "markdown",
   "metadata": {},
   "source": [
    "## Consolidate number of Incidents\n",
    "There are a lot of incidents and we're interested in a few times. Let's group those that are similar (e.g theft from motor vehicle vs theft). Though similar under the law they are different, however, the main point is here is to see if there is any apparent trend."
   ]
  },
  {
   "cell_type": "code",
   "execution_count": 26,
   "metadata": {
    "scrolled": true
   },
   "outputs": [
    {
     "data": {
      "text/plain": [
       "theft                                                       2336\n",
       "information                                                  821\n",
       "traffic violation                                            692\n",
       "lost property                                                649\n",
       "found property                                               377\n",
       "liquor law violation                                         262\n",
       "injured person                                               257\n",
       "burglary                                                     252\n",
       "theft from motor vehicle                                     238\n",
       "criminal damage to property                                  189\n",
       "battery                                                      166\n",
       "medical call                                                 152\n",
       "assist other agency                                          137\n",
       "information / armed robbery                                  136\n",
       "information / burglary                                       133\n",
       "warrant arrest                                               122\n",
       "traffic crash                                                121\n",
       "mental health transport                                      112\n",
       "criminal trespass to land                                     95\n",
       "robbery                                                       88\n",
       "damage to property                                            88\n",
       "information / robbery                                         84\n",
       "criminal damage to vehicle                                    84\n",
       "non-criminal damage to property                               69\n",
       "armed robbery                                                 65\n",
       "fire alarm                                                    64\n",
       "domestic battery                                              60\n",
       "theft from person                                             59\n",
       "information / theft                                           58\n",
       "traffic accident                                              57\n",
       "                                                            ... \n",
       "dui arrest                                                     1\n",
       "assist other agency / possession of stolen motor vehicle       1\n",
       "information / attempt home invasion                            1\n",
       "non-criminal /  damage to property                             1\n",
       "found narcotics paraphernalia                                  1\n",
       "information /  harassing phone calls                           1\n",
       "possession of crack cocaine                                    1\n",
       "deceptive                                                      1\n",
       "damage to property / non-criminal                              1\n",
       "information /  robbery                                         1\n",
       "hazardous material event                                       1\n",
       "deceptive practice / forgery                                   1\n",
       "information  / disturbance                                     1\n",
       "other                                                          1\n",
       "public peace violation - warrant arrest                        1\n",
       "non-criminal complaint                                         1\n",
       "information / recovered motor vehicle                          1\n",
       "sex related                                                    1\n",
       "harassing messages                                             1\n",
       "deceptive practice / identity theft                            1\n",
       "robbery-strong arm                                             1\n",
       "ambulance request                                              1\n",
       "liquor law  violation                                          1\n",
       "information / smoke                                            1\n",
       "information / medical transport                                1\n",
       "hit & run crash / property damage                              1\n",
       "noise complaint                                                1\n",
       "information / traffic crash / hit and run                      1\n",
       "assist other agency / aggravated robbery                       1\n",
       "resisting arrest / traffic violation                           1\n",
       "Name: Incident, Length: 505, dtype: int64"
      ]
     },
     "execution_count": 26,
     "metadata": {},
     "output_type": "execute_result"
    }
   ],
   "source": [
    "# number of unique incidents\n",
    "df['Incident'].value_counts()"
   ]
  },
  {
   "cell_type": "code",
   "execution_count": 27,
   "metadata": {
    "scrolled": true
   },
   "outputs": [
    {
     "data": {
      "text/plain": [
       "Int64Index([   34,    42,    82,   135,   147,   219,   311,   334,   412,\n",
       "              467,\n",
       "            ...\n",
       "            10715, 10745, 10781, 10906, 10957, 11007, 11008, 11019, 11090,\n",
       "            11114],\n",
       "           dtype='int64', length=130)"
      ]
     },
     "execution_count": 27,
     "metadata": {},
     "output_type": "execute_result"
    }
   ],
   "source": [
    "# would like to use groupby() but too many options\n",
    "# let's make something similar\n",
    "\n",
    "# incident categories\n",
    "categories = 'lost,theft,assault,burglary,mental health'.split(',')\n",
    "\n",
    "# find incidents which are similar and group them together\n",
    "# in a dict, where key=defined category & value=index (like groupby)\n",
    "categories_data = {}\n",
    "for i in categories:\n",
    "    categories_data[i] = df['Incident'].str.extract(r'({})'.format(i), expand=True).dropna().index\n",
    "    \n",
    "categories_data['assault']  # preview"
   ]
  },
  {
   "cell_type": "code",
   "execution_count": null,
   "metadata": {},
   "outputs": [],
   "source": []
  },
  {
   "cell_type": "code",
   "execution_count": 28,
   "metadata": {},
   "outputs": [],
   "source": [
    "import itertools"
   ]
  },
  {
   "cell_type": "code",
   "execution_count": 44,
   "metadata": {
    "scrolled": true
   },
   "outputs": [],
   "source": [
    "# get index w/ all relevant incidents\n",
    "crime_index = list(itertools.chain.from_iterable(categories_data.values()))\n",
    "\n",
    "# rename incidents to match those in categories\n",
    "rename_incidents = [[cat] * len(categories_data[cat]) for cat in categories_data]\n",
    "rename_incidents = pd.Series(list(itertools.chain.from_iterable(rename_incidents)), index=crime_index, name='Incident')\n",
    "\n",
    "# change occurred times to datetime64 types\n",
    "time = df['Occurred'].str.extract(r'^(\\d/\\d+/\\d+ \\d+:\\d+)( AM| PM)')\n",
    "time2 = df['Occurred'].str.extract(r'^(\\d+/\\d+/\\d+ \\d+:\\d+)(AM|PM)').dropna()\n",
    "time = time.fillna(value=time2)[0] + time.fillna(value=time2)[1]\n",
    "time = pd.to_datetime(time, errors='coerce').dt.tz_localize(tz='US/Central').rename('Occurred')\n",
    "\n",
    "# save dataframe w/ imported info\n",
    "\n",
    "pd.concat([rename_incidents, df['Comments'].loc[crime_index],\n",
    "           pd.to_datetime(df['Reported'].loc[crime_index], errors='coerce'),\n",
    "          df['Coordinates'].loc[crime_index], time.loc[crime_index]], axis=1).to_csv('clean_data.csv')"
   ]
  },
  {
   "cell_type": "code",
   "execution_count": null,
   "metadata": {},
   "outputs": [],
   "source": []
  }
 ],
 "metadata": {
  "kernelspec": {
   "display_name": "Python 3",
   "language": "python",
   "name": "python3"
  },
  "language_info": {
   "codemirror_mode": {
    "name": "ipython",
    "version": 3
   },
   "file_extension": ".py",
   "mimetype": "text/x-python",
   "name": "python",
   "nbconvert_exporter": "python",
   "pygments_lexer": "ipython3",
   "version": "3.6.3"
  }
 },
 "nbformat": 4,
 "nbformat_minor": 2
}
