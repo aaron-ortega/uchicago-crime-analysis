{
 "cells": [
  {
   "cell_type": "code",
   "execution_count": 1,
   "metadata": {},
   "outputs": [],
   "source": [
    "import pandas as pd\n",
    "import logging\n",
    "import re"
   ]
  },
  {
   "cell_type": "code",
   "execution_count": 2,
   "metadata": {},
   "outputs": [],
   "source": [
    "df = pd.read_csv('/Users/aaron/Desktop/convertcsv.csv')"
   ]
  },
  {
   "cell_type": "code",
   "execution_count": 4,
   "metadata": {},
   "outputs": [],
   "source": [
    "# Fix column name\n",
    "df.rename(columns={\"Occured\": \"Occurred\"}, inplace=True)"
   ]
  },
  {
   "cell_type": "code",
   "execution_count": 5,
   "metadata": {},
   "outputs": [],
   "source": [
    "# Drop nan and useless columns\n",
    "del df['Disposition']\n",
    "del df['UCPD_ID']\n",
    "df.dropna(axis=0, how='all', inplace=True)"
   ]
  },
  {
   "cell_type": "code",
   "execution_count": 6,
   "metadata": {},
   "outputs": [],
   "source": [
    "df = df.applymap(lambda df: str.lower(df).strip() if isinstance(df, str) else df)"
   ]
  },
  {
   "cell_type": "code",
   "execution_count": 7,
   "metadata": {},
   "outputs": [],
   "source": [
    "# Remove bad data\n",
    "remove = 'void|:|no incident reports'\n",
    "df = df[~df.Incident.str.contains(f'{remove}')]"
   ]
  },
  {
   "cell_type": "code",
   "execution_count": 8,
   "metadata": {},
   "outputs": [],
   "source": [
    "# Tag common incidents using a regex\n",
    "common_incidents = 'lost|assault|theft|robbery|battery|mental health|burglary'\n",
    "regex = re.compile(f'{common_incidents}')\n",
    "\n",
    "def tag_incident(incident):\n",
    "    try:\n",
    "        return re.findall(regex, incident)[0]\n",
    "    except TypeError:\n",
    "        return pd.np.nan\n",
    "    except IndexError:\n",
    "        return pd.np.nan\n",
    "\n",
    "# Add Tag column\n",
    "df['Tag'] = df['Incident'].apply(tag_incident)"
   ]
  },
  {
   "cell_type": "code",
   "execution_count": 9,
   "metadata": {},
   "outputs": [
    {
     "name": "stdout",
     "output_type": "stream",
     "text": [
      "theft            2825\n",
      "lost              672\n",
      "robbery           564\n",
      "burglary          423\n",
      "battery           368\n",
      "assault           130\n",
      "mental health     117\n",
      "Name: Tag, dtype: int64\n"
     ]
    }
   ],
   "source": [
    "# Total tags per incident\n",
    "print(df['Tag'].value_counts())"
   ]
  },
  {
   "cell_type": "markdown",
   "metadata": {},
   "source": [
    "## Approximate time of incident"
   ]
  },
  {
   "cell_type": "code",
   "execution_count": 11,
   "metadata": {},
   "outputs": [],
   "source": [
    "date = df.Occurred.str.split(pat=r'to')\n",
    "\n",
    "# Fix specific values\n",
    "date.loc[39] = ['7/11/2010 12:07 am']\n",
    "date.loc[730] = ['11/23/10 10:30 am',  '2:30 pm']"
   ]
  },
  {
   "cell_type": "code",
   "execution_count": 22,
   "metadata": {},
   "outputs": [],
   "source": [
    "# Configure logging settings\n",
    "logger = logging.getLogger(__name__)\n",
    "logger.setLevel(logging.WARNING)\n",
    "\n",
    "file_handler = logging.FileHandler('failed_guess_date.log')\n",
    "formatter = logging.Formatter('%(levelname)s:%(name)s:%(message)s')\n",
    "file_handler.setFormatter(formatter)\n",
    "logger.addHandler(file_handler)\n",
    "\n"
   ]
  },
  {
   "cell_type": "code",
   "execution_count": 23,
   "metadata": {},
   "outputs": [],
   "source": [
    "def guess_date(date):\n",
    "    \"\"\"\n",
    "    Takes a pandas Series of lists containing datetime string\n",
    "    information and approximates datetime.\n",
    "\n",
    "    Returns\n",
    "    -------\n",
    "    Datetime type\n",
    "    \"\"\"\n",
    "    if isinstance(date, float):\n",
    "        logger.warning(f'Failed to parse: {date}')\n",
    "        return pd.Timestamp(pd.np.nan) \n",
    "    \n",
    "    try:\n",
    "        if len(date) == 1:\n",
    "            return pd.to_datetime(date[0], errors='coerce')\n",
    "\n",
    "        elif len(date) == 2:\n",
    "            time1 = pd.to_datetime(date[0])\n",
    "            time2 = pd.to_datetime(re.findall(r\"\\d+/\\d+/\\d+\", date[0])[0] + date[1])\n",
    "\n",
    "            diff =  time2 - time1\n",
    "\n",
    "            if diff < pd.Timedelta(6, 'h'):\n",
    "                return time1 + diff/2\n",
    "            else:\n",
    "                return pd.Timestamp(pd.np.nan)\n",
    "\n",
    "        else:\n",
    "            time1 = pd.to_datetime(date[0])\n",
    "            time2 = pd.to_datetime(re.findall(r\"\\d+/\\d+/\\d+\", date[1])[0])\n",
    "            diff = time2 - time1\n",
    "            \n",
    "            if diff < pd.Timedelta(6, 'h'):\n",
    "                return time1 + diff/2\n",
    "            else:\n",
    "                return pd.Timestamp(pd.np.nan)\n",
    "    \n",
    "    except ValueError as err:\n",
    "        logger.warning(f'{err}: {date}')\n",
    "        return pd.Timestamp(pd.np.nan)\n",
    "\n",
    "    except IndexError as err:\n",
    "        logger.warning(f'{err}: {date}')\n",
    "        return pd.Timestamp(pd.np.nan)\n",
    "    \n",
    "    except OutOfBoundsDatetime as err:\n",
    "        logger.warning(f'{err}: {date}')\n",
    "        return pd.Timestamp(pd.np.nan)"
   ]
  },
  {
   "cell_type": "code",
   "execution_count": null,
   "metadata": {},
   "outputs": [],
   "source": []
  }
 ],
 "metadata": {
  "kernelspec": {
   "display_name": "Python 3",
   "language": "python",
   "name": "python3"
  },
  "language_info": {
   "codemirror_mode": {
    "name": "ipython",
    "version": 3
   },
   "file_extension": ".py",
   "mimetype": "text/x-python",
   "name": "python",
   "nbconvert_exporter": "python",
   "pygments_lexer": "ipython3",
   "version": "3.7.0"
  }
 },
 "nbformat": 4,
 "nbformat_minor": 2
}
