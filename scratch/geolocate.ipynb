{
 "cells": [
  {
   "cell_type": "code",
   "execution_count": 1,
   "metadata": {},
   "outputs": [],
   "source": [
    "import re\n",
    "import logging\n",
    "from numpy import nan\n",
    "from geopy.geocoders import GoogleV3\n",
    "from geopy.exc import GeocoderTimedOut"
   ]
  },
  {
   "cell_type": "code",
   "execution_count": null,
   "metadata": {},
   "outputs": [],
   "source": [
    "# Configure logging settings\n",
    "logger = logging.getLogger(__name__)\n",
    "logger.setLevel(logging.INFO)\n",
    "\n",
    "file_handler = logging.FileHandler('geolocate_status.log')\n",
    "formatter = logging.Formatter('%(asctime)s::%(levelname)s::%(name)s::%(message)s')\n",
    "file_handler.setFormatter(formatter)\n",
    "logger.addHandler(file_handler)"
   ]
  },
  {
   "cell_type": "code",
   "execution_count": null,
   "metadata": {},
   "outputs": [],
   "source": [
    "with open('google-maps-api/api-key.txt', 'r') as f:\n",
    "    key = f.readline()\n",
    "\n",
    "# Setup Geolocator\n",
    "geolocator = GoogleV3(api_key=key, user_agent=\"uchicago_surronding_area\", format_string=\"%s, Chicago, IL\")"
   ]
  },
  {
   "cell_type": "code",
   "execution_count": null,
   "metadata": {},
   "outputs": [],
   "source": [
    "# Adds \"avenue\" to addresss\n",
    "# It helps narrow down location\n",
    "\n",
    "avenues = 'cottage grove,drexel,ingleside,ellis,greenwood,university,\\\n",
    "                woodlawn,kimbark,kenwood,dorchester,blackstone,harper,\\\n",
    "                lake park,stony island,cornell,everett'.split(',')\n",
    "\n",
    "def addAvenue(address):\n",
    "    \n",
    "    for ave in avenues:\n",
    "        if re.search(ave, address):\n",
    "            address += ' avenue'\n",
    "            break\n",
    "\n",
    "    return address"
   ]
  },
  {
   "cell_type": "code",
   "execution_count": null,
   "metadata": {},
   "outputs": [],
   "source": [
    "def address2coordinates(address):\n",
    "    '''\n",
    "    Function takes an address as a string and formats to improve \n",
    "    likelihood of getting gps coordinatesd.\n",
    "\n",
    "    Returns\n",
    "    -------\n",
    "    If location found: a tuple containing the latitude & longitude\n",
    "    If not: an integer code (user defined)\n",
    "    '''\n",
    "    \n",
    "    address = re.sub(r' \\(.*\\)', '', address.lower())  # remove parenthetical info\n",
    "    address = re.sub(r' at|and ', ' & ', address)      # fix intersection\n",
    "    \n",
    "    try:\n",
    "        # Check if address is between streets\n",
    "        # E.g. (52nd St. between Greenwood & University)\n",
    "        pattern = re.findall(r'(\\w.*(?= between)) between ((?<=between )\\w.*(?= &)) & ((?<=\\& )\\w.*)', address)[0]\n",
    "        street_1 = f\"{pattern[0]} {pattern[1]}\"\n",
    "        street_2 = f\"{pattern[0]} {pattern[2]}\"\n",
    "        \n",
    "        # Server timeout time is 10sec\n",
    "        location_1 = geolocator.geocode(addAvenue(street_1), timeout=10)\n",
    "        location_2 = geolocator.geocode(addAvenue(street_2), timeout=10)\n",
    "        \n",
    "        # Returns midpoint coordinates between the two locations\n",
    "        return ((location_1.latitude + location_2.latitude)/2, \n",
    "                (location_1.longitude + location_2.longitude)/2)\n",
    "            \n",
    "    except IndexError:\n",
    "        # Only single address\n",
    "        location = geolocator.geocode(address, timeout=10)\n",
    "        if location != None:\n",
    "            return (location.latitude, location.longitude)\n",
    "        \n",
    "    except GeocoderTimedOut as timeout:\n",
    "        # Server timeout value if any (check later)\n",
    "        logger.info(f\"{timeout}::{address}\")\n",
    "        return nan\n",
    "    \n",
    "    except Exception as err:\n",
    "        # error value will point to unforseen error if any (check later)\n",
    "        logger.info(f\"\")\n",
    "        print('An error occurred!')\n",
    "        return 999\n",
    "    \n",
    "    else:\n",
    "        return nan"
   ]
  },
  {
   "cell_type": "code",
   "execution_count": null,
   "metadata": {},
   "outputs": [],
   "source": []
  }
 ],
 "metadata": {
  "kernelspec": {
   "display_name": "Python 3",
   "language": "python",
   "name": "python3"
  },
  "language_info": {
   "codemirror_mode": {
    "name": "ipython",
    "version": 3
   },
   "file_extension": ".py",
   "mimetype": "text/x-python",
   "name": "python",
   "nbconvert_exporter": "python",
   "pygments_lexer": "ipython3",
   "version": "3.7.0"
  }
 },
 "nbformat": 4,
 "nbformat_minor": 2
}
