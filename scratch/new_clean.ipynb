{
 "cells": [
  {
   "cell_type": "code",
   "execution_count": 1,
   "metadata": {},
   "outputs": [],
   "source": [
    "import pandas as pd\n",
    "import logging\n",
    "import re"
   ]
  },
  {
   "cell_type": "code",
   "execution_count": 2,
   "metadata": {},
   "outputs": [],
   "source": [
    "df = pd.read_csv('/Users/aaron/Desktop/convertcsv.csv')"
   ]
  },
  {
   "cell_type": "code",
   "execution_count": 4,
   "metadata": {},
   "outputs": [],
   "source": [
    "# Fix column name\n",
    "df.rename(columns={\"Occured\": \"Occurred\"}, inplace=True)"
   ]
  },
  {
   "cell_type": "code",
   "execution_count": 5,
   "metadata": {},
   "outputs": [],
   "source": [
    "# Drop nan and useless columns\n",
    "del df['Disposition']\n",
    "del df['UCPD_ID']\n",
    "df.dropna(axis=0, how='all', inplace=True)"
   ]
  },
  {
   "cell_type": "code",
   "execution_count": 6,
   "metadata": {},
   "outputs": [],
   "source": [
    "df = df.applymap(lambda df: str.lower(df).strip() if isinstance(df, str) else df)"
   ]
  },
  {
   "cell_type": "code",
   "execution_count": 7,
   "metadata": {},
   "outputs": [],
   "source": [
    "# Remove bad data\n",
    "remove = 'void|:|no incident reports'\n",
    "df = df[~df.Incident.str.contains(f'{remove}')]"
   ]
  },
  {
   "cell_type": "code",
   "execution_count": 8,
   "metadata": {},
   "outputs": [],
   "source": [
    "# Tag common incidents using a regex\n",
    "common_incidents = 'lost|assault|theft|robbery|battery|mental health|burglary'\n",
    "regex = re.compile(f'{common_incidents}')\n",
    "\n",
    "def tag_incident(incident):\n",
    "    try:\n",
    "        return re.findall(regex, incident)[0]\n",
    "    except TypeError:\n",
    "        return pd.np.nan\n",
    "    except IndexError:\n",
    "        return pd.np.nan\n",
    "\n",
    "# Add Tag column\n",
    "df['Tag'] = df['Incident'].apply(tag_incident)"
   ]
  },
  {
   "cell_type": "code",
   "execution_count": 9,
   "metadata": {},
   "outputs": [
    {
     "name": "stdout",
     "output_type": "stream",
     "text": [
      "theft            2825\n",
      "lost              672\n",
      "robbery           564\n",
      "burglary          423\n",
      "battery           368\n",
      "assault           130\n",
      "mental health     117\n",
      "Name: Tag, dtype: int64\n"
     ]
    }
   ],
   "source": [
    "# Total tags per incident\n",
    "print(df['Tag'].value_counts())"
   ]
  },
  {
   "cell_type": "markdown",
   "metadata": {},
   "source": [
    "## Approximate time of incident"
   ]
  },
  {
   "cell_type": "code",
   "execution_count": 11,
   "metadata": {},
   "outputs": [],
   "source": [
    "date = df.Occurred.str.split(pat=r'to')\n",
    "\n",
    "# Fix specific values\n",
    "date.loc[39] = ['7/11/2010 12:07 am']\n",
    "date.loc[730] = ['11/23/10 10:30 am',  '2:30 pm']"
   ]
  },
  {
   "cell_type": "code",
   "execution_count": 22,
   "metadata": {},
   "outputs": [],
   "source": [
    "# Configure logging settings\n",
    "logger = logging.getLogger(__name__)\n",
    "logger.setLevel(logging.WARNING)\n",
    "\n",
    "file_handler = logging.FileHandler('failed_guess_date.log')\n",
    "formatter = logging.Formatter('%(levelname)s:%(name)s:%(message)s')\n",
    "file_handler.setFormatter(formatter)\n",
    "logger.addHandler(file_handler)\n",
    "\n"
   ]
  },
  {
   "cell_type": "code",
   "execution_count": 23,
   "metadata": {},
   "outputs": [],
   "source": [
    "def guess_date(date):\n",
    "    \"\"\"\n",
    "    Takes a pandas Series of lists containing datetime string\n",
    "    information and approximates datetime.\n",
    "\n",
    "    Returns\n",
    "    -------\n",
    "    Datetime type\n",
    "    \"\"\"\n",
    "    if isinstance(date, float):\n",
    "        logger.warning(f'Failed to parse: {date}')\n",
    "        return pd.Timestamp(pd.np.nan) \n",
    "    \n",
    "    try:\n",
    "        if len(date) == 1:\n",
    "            return pd.to_datetime(date[0], errors='coerce')\n",
    "\n",
    "        elif len(date) == 2:\n",
    "            time1 = pd.to_datetime(date[0])\n",
    "            time2 = pd.to_datetime(re.findall(r\"\\d+/\\d+/\\d+\", date[0])[0] + date[1])\n",
    "\n",
    "            diff =  time2 - time1\n",
    "\n",
    "            if diff < pd.Timedelta(6, 'h'):\n",
    "                return time1 + diff/2\n",
    "            else:\n",
    "                return pd.Timestamp(pd.np.nan)\n",
    "\n",
    "        else:\n",
    "            time1 = pd.to_datetime(date[0])\n",
    "            time2 = pd.to_datetime(re.findall(r\"\\d+/\\d+/\\d+\", date[1])[0])\n",
    "            diff = time2 - time1\n",
    "            \n",
    "            if diff < pd.Timedelta(6, 'h'):\n",
    "                return time1 + diff/2\n",
    "            else:\n",
    "                return pd.Timestamp(pd.np.nan)\n",
    "    \n",
    "    except ValueError as err:\n",
    "        logger.warning(f'{err}: {date}')\n",
    "        return pd.Timestamp(pd.np.nan)\n",
    "\n",
    "    except IndexError as err:\n",
    "        logger.warning(f'{err}: {date}')\n",
    "        return pd.Timestamp(pd.np.nan)\n",
    "    \n",
    "    except OutOfBoundsDatetime as err:\n",
    "        logger.warning(f'{err}: {date}')\n",
    "        return pd.Timestamp(pd.np.nan)"
   ]
  },
  {
   "cell_type": "code",
   "execution_count": 143,
   "metadata": {},
   "outputs": [
    {
     "name": "stdout",
     "output_type": "stream",
     "text": [
      "0                                [6/28/10 2:45 pm]\n",
      "1           [6/29/10 ,  7/1/10 3:00 pm ,  1:50 pm]\n",
      "2          [6/29/10 ,  7/1/10 5:30 pm ,  12:30 pm]\n",
      "3          [6/23/10 ,  6/29/10 9:00 am ,  5:00 pm]\n",
      "4                                 [7/1/10 6:15 pm]\n",
      "5                                [7/1/10 10:00 pm]\n",
      "6                                [7/1/10 11:50 pm]\n",
      "7                                [7/1/10 10:45 pm]\n",
      "8                                 [7/2/10 1:45 am]\n",
      "9                                [7/2/10 10:20 pm]\n",
      "10                                [7/3/10 2:05 am]\n",
      "11                                [7/3/10 1:20 pm]\n",
      "12                     [7/3/10 4:00 pm ,  5:00 pm]\n",
      "13                               [7/4/10 12:00 am]\n",
      "14                                [7/4/10 2:00 am]\n",
      "15                                [7/4/10 7:20 am]\n",
      "16                    [7/5/10 7:00 am ,  11:45 am]\n",
      "17                                [7/5/10 7:08 pm]\n",
      "20           [7/3/10 ,  7/6/10 2:00 pm ,  7:00 am]\n",
      "21                                  [7/6/10 11:15]\n",
      "22                   [7/6/10 12:35 pm ,  12:55 pm]\n",
      "23                     [7/6/10 7:40 am ,  1:00 pm]\n",
      "24                                  [7/6/10 21:11]\n",
      "25           [7/2/10 ,  7/6/10 4:00 pm ,  6:15 pm]\n",
      "26                                  [7/6/10 21:50]\n",
      "27                                [7/7/10 5:27 am]\n",
      "28                    [7/7/10 8:00 am ,  12:00 pm]\n",
      "29                   [7/7/10 11:00 am ,  12:45 pm]\n",
      "30         [7/4/10 ,  7/7/10  11:00 pm ,  6:00 pm]\n",
      "31                                [7/8/10 2:27 pm]\n",
      "                           ...                    \n",
      "11205       [9/9/18 ,  9/11/18 6:00 pm ,  2:00 pm]\n",
      "11206                           [9/12/18 11:55 am]\n",
      "11207       [9/7/18 ,  9/12/18 3:30 pm ,  8:15 am]\n",
      "11208                            [9/12/18 8:30 pm]\n",
      "11209           [10/1/17 ,  9/13/18 various times]\n",
      "11210                           [9/13/18 11:30 am]\n",
      "11211                            [9/14/18 2:40 am]\n",
      "11212            [1/11/17 ,  8/3/18 various times]\n",
      "11213                            [9/13/18 4:15 pm]\n",
      "11214      [9/13/18 ,  9/14/18 7:45 am ,  3:30 pm]\n",
      "11215                           [9/14/18 10:00 am]\n",
      "11216                            [9/14/18 1:00 pm]\n",
      "11217                            [9/14/18 1:00 pm]\n",
      "11218                            [9/15/18 3:15 am]\n",
      "11219                            [9/15/18 6:30 am]\n",
      "11220               [9/15/18 10:00 am ,  10:45 am]\n",
      "11221      [9/14/18 ,  9/15/18 4:15 pm ,  9:00 am]\n",
      "11222                [9/16/18 11:30 am ,  1:29 pm]\n",
      "11223       [8/14/18 ,  9/6/18 9:00 am ,  9:00 pm]\n",
      "11224                            [9/17/18 6:58 pm]\n",
      "11225    [9/14/18 ,  9/17/18  12:00 pm ,  6:05 pm]\n",
      "11226                            [9/17/18 3:45 pm]\n",
      "11227                           [9/18/18 12:21 pm]\n",
      "11228                           [9/18/18 12:52 pm]\n",
      "11229      [6/19/18 ,  6/30/18 7:00 am ,  3:00 pm]\n",
      "11230                [9/18/18 9:30 am ,  11:00 am]\n",
      "11231                           [9/19/18 10:10 am]\n",
      "11233                 [9/19/18 5:00 pm ,  6:30 pm]\n",
      "11234     [9/16/18 ,  9/17/18 11:00 am ,  5:00 pm]\n",
      "11235                           [9/19/18 10:22 pm]\n",
      "Name: Occurred, Length: 10204, dtype: object\n"
     ]
    }
   ],
   "source": []
  },
  {
   "cell_type": "code",
   "execution_count": 1,
   "metadata": {},
   "outputs": [],
   "source": [
    "import pandas as pd"
   ]
  },
  {
   "cell_type": "code",
   "execution_count": 18,
   "metadata": {},
   "outputs": [
    {
     "data": {
      "text/html": [
       "<div>\n",
       "<style scoped>\n",
       "    .dataframe tbody tr th:only-of-type {\n",
       "        vertical-align: middle;\n",
       "    }\n",
       "\n",
       "    .dataframe tbody tr th {\n",
       "        vertical-align: top;\n",
       "    }\n",
       "\n",
       "    .dataframe thead th {\n",
       "        text-align: right;\n",
       "    }\n",
       "</style>\n",
       "<table border=\"1\" class=\"dataframe\">\n",
       "  <thead>\n",
       "    <tr style=\"text-align: right;\">\n",
       "      <th></th>\n",
       "      <th>hi</th>\n",
       "      <th>world</th>\n",
       "    </tr>\n",
       "  </thead>\n",
       "  <tbody>\n",
       "    <tr>\n",
       "      <th>0</th>\n",
       "      <td>3</td>\n",
       "      <td>4</td>\n",
       "    </tr>\n",
       "    <tr>\n",
       "      <th>1</th>\n",
       "      <td>1</td>\n",
       "      <td>1</td>\n",
       "    </tr>\n",
       "  </tbody>\n",
       "</table>\n",
       "</div>"
      ],
      "text/plain": [
       "   hi  world\n",
       "0   3      4\n",
       "1   1      1"
      ]
     },
     "execution_count": 18,
     "metadata": {},
     "output_type": "execute_result"
    }
   ],
   "source": [
    "a = pd.DataFrame([[3,4], [1,1]], columns=['hi', 'world'])\n",
    "#a['foo'], a['bar'] = (2.2,2)\n",
    "a"
   ]
  },
  {
   "cell_type": "code",
   "execution_count": 19,
   "metadata": {},
   "outputs": [],
   "source": [
    "a['fdf'], a['fd'] = a"
   ]
  },
  {
   "cell_type": "code",
   "execution_count": 20,
   "metadata": {},
   "outputs": [
    {
     "data": {
      "text/html": [
       "<div>\n",
       "<style scoped>\n",
       "    .dataframe tbody tr th:only-of-type {\n",
       "        vertical-align: middle;\n",
       "    }\n",
       "\n",
       "    .dataframe tbody tr th {\n",
       "        vertical-align: top;\n",
       "    }\n",
       "\n",
       "    .dataframe thead th {\n",
       "        text-align: right;\n",
       "    }\n",
       "</style>\n",
       "<table border=\"1\" class=\"dataframe\">\n",
       "  <thead>\n",
       "    <tr style=\"text-align: right;\">\n",
       "      <th></th>\n",
       "      <th>hi</th>\n",
       "      <th>world</th>\n",
       "      <th>fdf</th>\n",
       "      <th>fd</th>\n",
       "    </tr>\n",
       "  </thead>\n",
       "  <tbody>\n",
       "    <tr>\n",
       "      <th>0</th>\n",
       "      <td>3</td>\n",
       "      <td>4</td>\n",
       "      <td>hi</td>\n",
       "      <td>world</td>\n",
       "    </tr>\n",
       "    <tr>\n",
       "      <th>1</th>\n",
       "      <td>1</td>\n",
       "      <td>1</td>\n",
       "      <td>hi</td>\n",
       "      <td>world</td>\n",
       "    </tr>\n",
       "  </tbody>\n",
       "</table>\n",
       "</div>"
      ],
      "text/plain": [
       "   hi  world fdf     fd\n",
       "0   3      4  hi  world\n",
       "1   1      1  hi  world"
      ]
     },
     "execution_count": 20,
     "metadata": {},
     "output_type": "execute_result"
    }
   ],
   "source": [
    "a"
   ]
  },
  {
   "cell_type": "code",
   "execution_count": 22,
   "metadata": {},
   "outputs": [
    {
     "name": "stdout",
     "output_type": "stream",
     "text": [
      "ERROR: unknown command \"tqdm\"\n"
     ]
    }
   ],
   "source": [
    "!pip tqdm"
   ]
  },
  {
   "cell_type": "code",
   "execution_count": 33,
   "metadata": {},
   "outputs": [
    {
     "ename": "ModuleNotFoundError",
     "evalue": "No module named 'tqdm'",
     "output_type": "error",
     "traceback": [
      "\u001b[0;31m---------------------------------------------------------------------------\u001b[0m",
      "\u001b[0;31mModuleNotFoundError\u001b[0m                       Traceback (most recent call last)",
      "\u001b[0;32m<ipython-input-33-41fc1b25ca8e>\u001b[0m in \u001b[0;36m<module>\u001b[0;34m\u001b[0m\n\u001b[1;32m      1\u001b[0m \u001b[0;32mimport\u001b[0m \u001b[0mpandas\u001b[0m \u001b[0;32mas\u001b[0m \u001b[0mpd\u001b[0m\u001b[0;34m\u001b[0m\u001b[0m\n\u001b[1;32m      2\u001b[0m \u001b[0;32mimport\u001b[0m \u001b[0mnumpy\u001b[0m \u001b[0;32mas\u001b[0m \u001b[0mnp\u001b[0m\u001b[0;34m\u001b[0m\u001b[0m\n\u001b[0;32m----> 3\u001b[0;31m \u001b[0;32mfrom\u001b[0m \u001b[0mtqdm\u001b[0m \u001b[0;32mimport\u001b[0m \u001b[0mtqdm\u001b[0m\u001b[0;34m\u001b[0m\u001b[0m\n\u001b[0m\u001b[1;32m      4\u001b[0m \u001b[0;34m\u001b[0m\u001b[0m\n\u001b[1;32m      5\u001b[0m \u001b[0mdf\u001b[0m \u001b[0;34m=\u001b[0m \u001b[0mpd\u001b[0m\u001b[0;34m.\u001b[0m\u001b[0mDataFrame\u001b[0m\u001b[0;34m(\u001b[0m\u001b[0mnp\u001b[0m\u001b[0;34m.\u001b[0m\u001b[0mrandom\u001b[0m\u001b[0;34m.\u001b[0m\u001b[0mrandint\u001b[0m\u001b[0;34m(\u001b[0m\u001b[0;36m0\u001b[0m\u001b[0;34m,\u001b[0m \u001b[0;36m100\u001b[0m\u001b[0;34m,\u001b[0m \u001b[0;34m(\u001b[0m\u001b[0;36m100000\u001b[0m\u001b[0;34m,\u001b[0m \u001b[0;36m6\u001b[0m\u001b[0;34m)\u001b[0m\u001b[0;34m)\u001b[0m\u001b[0;34m)\u001b[0m\u001b[0;34m\u001b[0m\u001b[0m\n",
      "\u001b[0;31mModuleNotFoundError\u001b[0m: No module named 'tqdm'"
     ]
    }
   ],
   "source": [
    "import pandas as pd\n",
    "import numpy as np\n",
    "from tqdm import tqdm\n",
    "\n",
    "df = pd.DataFrame(np.random.randint(0, 100, (100000, 6)))\n",
    "\n",
    "# Register `pandas.progress_apply` and `pandas.Series.map_apply` with `tqdm`\n",
    "# (can use `tqdm_gui`, `tqdm_notebook`, optional kwargs, etc.)\n",
    "tqdm.pandas(desc=\"my bar!\")\n",
    "\n",
    "# Now you can use `progress_apply` instead of `apply`\n",
    "# and `progress_map` instead of `map`\n",
    "df.progress_apply(lambda x: x**2)"
   ]
  },
  {
   "cell_type": "code",
   "execution_count": 1,
   "metadata": {},
   "outputs": [
    {
     "ename": "ModuleNotFoundError",
     "evalue": "No module named 'tqdm'",
     "output_type": "error",
     "traceback": [
      "\u001b[0;31m---------------------------------------------------------------------------\u001b[0m",
      "\u001b[0;31mModuleNotFoundError\u001b[0m                       Traceback (most recent call last)",
      "\u001b[0;32m<ipython-input-1-31b82129cd3b>\u001b[0m in \u001b[0;36m<module>\u001b[0;34m\u001b[0m\n\u001b[0;32m----> 1\u001b[0;31m \u001b[0;32mimport\u001b[0m \u001b[0mtqdm\u001b[0m\u001b[0;34m\u001b[0m\u001b[0m\n\u001b[0m",
      "\u001b[0;31mModuleNotFoundError\u001b[0m: No module named 'tqdm'"
     ]
    }
   ],
   "source": [
    "import tqdm"
   ]
  },
  {
   "cell_type": "code",
   "execution_count": 29,
   "metadata": {},
   "outputs": [
    {
     "name": "stdout",
     "output_type": "stream",
     "text": [
      "Requirement already satisfied: tqdm in /Users/aaron/.pyenv/versions/3.6.5/envs/env3.6/lib/python3.6/site-packages (4.28.1)\n"
     ]
    }
   ],
   "source": [
    "!pip install tqdm"
   ]
  },
  {
   "cell_type": "code",
   "execution_count": 35,
   "metadata": {},
   "outputs": [
    {
     "name": "stdout",
     "output_type": "stream",
     "text": [
      "Python 3.6.5\n"
     ]
    }
   ],
   "source": [
    "!python -V"
   ]
  },
  {
   "cell_type": "code",
   "execution_count": null,
   "metadata": {},
   "outputs": [],
   "source": []
  }
 ],
 "metadata": {
  "kernelspec": {
   "display_name": "Python 3",
   "language": "python",
   "name": "python3"
  },
  "language_info": {
   "codemirror_mode": {
    "name": "ipython",
    "version": 3
   },
   "file_extension": ".py",
   "mimetype": "text/x-python",
   "name": "python",
   "nbconvert_exporter": "python",
   "pygments_lexer": "ipython3",
   "version": "3.7.0"
  }
 },
 "nbformat": 4,
 "nbformat_minor": 2
}
